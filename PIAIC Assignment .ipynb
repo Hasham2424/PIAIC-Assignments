{
 "cells": [
  {
   "cell_type": "code",
   "execution_count": 2,
   "metadata": {},
   "outputs": [
    {
     "name": "stdout",
     "output_type": "stream",
     "text": [
      "audi\n",
      "2015\n"
     ]
    }
   ],
   "source": [
    "#Built in function 1\n",
    "\n",
    "class car:\n",
    "    def __init__(self, make, model):\n",
    "        self.make = make\n",
    "        self.model = model\n",
    "        \n",
    "A8 = car('audi','2015')\n",
    "print(A8.make)\n",
    "print(A8.model)"
   ]
  },
  {
   "cell_type": "code",
   "execution_count": 12,
   "metadata": {},
   "outputs": [
    {
     "name": "stdout",
     "output_type": "stream",
     "text": [
      "4\n",
      "5\n",
      "4\n",
      "2.0\n"
     ]
    }
   ],
   "source": [
    "#Built in function 2 and 3:\n",
    "\n",
    "class calculator:\n",
    "    def add(x,y):\n",
    "        vals = (x,y)\n",
    "        print(sum(vals))\n",
    "        \n",
    "    def subtraction(x,y):\n",
    "        print(x-y)\n",
    "    \n",
    "    def multiplication(x,y):\n",
    "        print(x*y)\n",
    "        \n",
    "    def division(x,y):\n",
    "        print(x/y)\n",
    "        \n",
    "calculator.add(2,2)\n",
    "calculator.subtraction(10, 5)\n",
    "calculator.multiplication(2, 2)\n",
    "calculator.division(10, 5)\n",
    "        "
   ]
  },
  {
   "cell_type": "code",
   "execution_count": 13,
   "metadata": {},
   "outputs": [
    {
     "name": "stdout",
     "output_type": "stream",
     "text": [
      "(0, 'John')\n",
      "(1, 'Ali')\n",
      "(2, 'Smith')\n",
      "(3, 'Hira')\n"
     ]
    }
   ],
   "source": [
    "#Built in fucntion 4:\n",
    "\n",
    "names = ['John','Ali','Smith','Hira']\n",
    "\n",
    "for i in enumerate(names):\n",
    "    print(i)"
   ]
  },
  {
   "cell_type": "code",
   "execution_count": 15,
   "metadata": {},
   "outputs": [
    {
     "name": "stdout",
     "output_type": "stream",
     "text": [
      "1\n",
      "2\n",
      "3\n",
      "4\n",
      "5\n",
      "6\n",
      "7\n",
      "8\n",
      "9\n"
     ]
    }
   ],
   "source": [
    "#Built in fucntion 5:\n",
    "\n",
    "for i in range(1, 10):\n",
    "    print(i)"
   ]
  },
  {
   "cell_type": "code",
   "execution_count": null,
   "metadata": {},
   "outputs": [],
   "source": []
  }
 ],
 "metadata": {
  "kernelspec": {
   "display_name": "Python 3",
   "language": "python",
   "name": "python3"
  },
  "language_info": {
   "codemirror_mode": {
    "name": "ipython",
    "version": 3
   },
   "file_extension": ".py",
   "mimetype": "text/x-python",
   "name": "python",
   "nbconvert_exporter": "python",
   "pygments_lexer": "ipython3",
   "version": "3.7.4"
  }
 },
 "nbformat": 4,
 "nbformat_minor": 2
}
