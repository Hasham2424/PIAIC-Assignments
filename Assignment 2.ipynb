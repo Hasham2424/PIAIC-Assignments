{
 "cells": [
  {
   "cell_type": "markdown",
   "metadata": {},
   "source": [
    "Write python program to check whether a number is positive or negative"
   ]
  },
  {
   "cell_type": "code",
   "execution_count": 10,
   "metadata": {},
   "outputs": [
    {
     "name": "stdout",
     "output_type": "stream",
     "text": [
      "enter number-2\n",
      "number is negative\n"
     ]
    }
   ],
   "source": [
    "num = int(input('enter number'))\n",
    "\n",
    "if num >= 0:\n",
    "    print('number is positive')\n",
    "elif num < 0:\n",
    "    print('number is negative')"
   ]
  },
  {
   "cell_type": "markdown",
   "metadata": {},
   "source": [
    "Write python program to take in the marks of subjects and display the grade"
   ]
  },
  {
   "cell_type": "code",
   "execution_count": 2,
   "metadata": {},
   "outputs": [
    {
     "name": "stdout",
     "output_type": "stream",
     "text": [
      "enter marks66\n",
      "enter marks55\n",
      "enter marks88\n",
      "enter marks44\n",
      "enter marks33\n",
      "57.199999999999996 %\n",
      "b grade\n"
     ]
    }
   ],
   "source": [
    "english = int(input('enter marks'))\n",
    "physics = int(input('enter marks'))\n",
    "chemistry = int(input('enter marks'))\n",
    "maths = int(input('enter marks'))\n",
    "computer = int(input('enter marks'))\n",
    "total = english+physics+chemistry+maths+computer\n",
    "average = (total/500)*100\n",
    "print((average),\"%\")\n",
    "\n",
    "if average < 50:\n",
    "    print('c grade')\n",
    "elif average >50 and average < 60:\n",
    "    print('b grade')\n",
    "elif average >60 and average < 70:\n",
    "    print('a grade')\n",
    "elif average > 70:\n",
    "    print('a+ grade')\n"
   ]
  },
  {
   "cell_type": "markdown",
   "metadata": {},
   "source": [
    "Write python program to read two numbers and print their quotient and remainder"
   ]
  },
  {
   "cell_type": "code",
   "execution_count": 3,
   "metadata": {},
   "outputs": [
    {
     "name": "stdout",
     "output_type": "stream",
     "text": [
      "enter dividend3\n",
      "enter divisor2\n",
      "1.5\n",
      "1\n"
     ]
    }
   ],
   "source": [
    "dividend = int(input('enter dividend'))\n",
    "divisor = int(input('enter divisor'))\n",
    "\n",
    "quotient = dividend/divisor\n",
    "modulus = dividend%divisor\n",
    "\n",
    "print(quotient)\n",
    "print(modulus)"
   ]
  },
  {
   "cell_type": "markdown",
   "metadata": {},
   "source": [
    "Write a python to print all integers that arent divisible by either 2 or 3 and lie between 1 and 50."
   ]
  },
  {
   "cell_type": "code",
   "execution_count": 10,
   "metadata": {},
   "outputs": [
    {
     "name": "stdout",
     "output_type": "stream",
     "text": [
      "1\n",
      "5\n",
      "7\n",
      "11\n",
      "13\n",
      "17\n",
      "19\n",
      "23\n",
      "25\n",
      "29\n",
      "31\n",
      "35\n",
      "37\n",
      "41\n",
      "43\n",
      "47\n",
      "49\n"
     ]
    }
   ],
   "source": [
    "for i in range(0,51):\n",
    "    if i%2 and i%3 != 0:\n",
    "        print(i)"
   ]
  },
  {
   "cell_type": "markdown",
   "metadata": {},
   "source": [
    "Write python program to exchange the values of two numbers without using a temporary variable"
   ]
  },
  {
   "cell_type": "code",
   "execution_count": 12,
   "metadata": {},
   "outputs": [
    {
     "name": "stdout",
     "output_type": "stream",
     "text": [
      "enter number10\n",
      "enter number5\n",
      "25\n",
      "-10\n"
     ]
    }
   ],
   "source": [
    "x = int(input('enter number'))\n",
    "y = int(input('enter number'))\n",
    "x = x + y\n",
    "y = y - x\n",
    "x = x - y\n",
    "print(x)\n",
    "print(y)"
   ]
  },
  {
   "cell_type": "code",
   "execution_count": null,
   "metadata": {},
   "outputs": [],
   "source": []
  }
 ],
 "metadata": {
  "kernelspec": {
   "display_name": "Python 3",
   "language": "python",
   "name": "python3"
  },
  "language_info": {
   "codemirror_mode": {
    "name": "ipython",
    "version": 3
   },
   "file_extension": ".py",
   "mimetype": "text/x-python",
   "name": "python",
   "nbconvert_exporter": "python",
   "pygments_lexer": "ipython3",
   "version": "3.7.4"
  }
 },
 "nbformat": 4,
 "nbformat_minor": 2
}
